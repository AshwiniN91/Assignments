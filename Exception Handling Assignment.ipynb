{
 "cells": [
  {
   "cell_type": "markdown",
   "metadata": {},
   "source": [
    "### 1. Write a function to compute 5/0 and use try/except to catch the exceptions."
   ]
  },
  {
   "cell_type": "markdown",
   "metadata": {},
   "source": [
    "##### Method-1"
   ]
  },
  {
   "cell_type": "code",
   "execution_count": 1,
   "metadata": {},
   "outputs": [
    {
     "name": "stdout",
     "output_type": "stream",
     "text": [
      "Sorry!!! This division is not feasible\n"
     ]
    }
   ],
   "source": [
    "try:\n",
    "    z = 5/0\n",
    "except:\n",
    "    print(\"Sorry!!! This division is not feasible\")"
   ]
  },
  {
   "cell_type": "markdown",
   "metadata": {},
   "source": [
    "From, this method we are only receiving an exception. But, what kind of exception is being raised."
   ]
  },
  {
   "cell_type": "markdown",
   "metadata": {},
   "source": [
    "##### Method-2"
   ]
  },
  {
   "cell_type": "code",
   "execution_count": 2,
   "metadata": {},
   "outputs": [
    {
     "name": "stdout",
     "output_type": "stream",
     "text": [
      "Sorry!!! This division is not feasible division by zero\n"
     ]
    }
   ],
   "source": [
    "try:\n",
    "    z = 5/0\n",
    "    \n",
    "except Exception as e:\n",
    "    print(\"Sorry!!! This division is not feasible\",e)"
   ]
  },
  {
   "cell_type": "markdown",
   "metadata": {},
   "source": [
    "From the second method we came to know that the exception raised is a zero by division error. Hence, any number or floating point\n",
    "divided by zero will always raise such errors. There is another method including except ZeroByDivision , however it is not a generalized format. "
   ]
  },
  {
   "cell_type": "markdown",
   "metadata": {},
   "source": [
    "### 2. Implement a Python program to generate all sentences where subject is in [\"Americans\", \"Indians\"] and verb is in [\"Play\", \"watch\"] and the object is in [\"Baseball\",\"cricket\"]."
   ]
  },
  {
   "cell_type": "code",
   "execution_count": 3,
   "metadata": {},
   "outputs": [],
   "source": [
    "subjects = [\"Americans\",\"Indians\"]\n",
    "verbs = [\"Play\",\"watch\"]\n",
    "objects = [\"Baseball\",\"cricket\"]"
   ]
  },
  {
   "cell_type": "code",
   "execution_count": 17,
   "metadata": {},
   "outputs": [
    {
     "data": {
      "text/plain": [
       "[('Americans', 'Play', 'Baseball'),\n",
       " ('Americans', 'Play', 'cricket'),\n",
       " ('Americans', 'watch', 'Baseball'),\n",
       " ('Americans', 'watch', 'cricket'),\n",
       " ('Indians', 'Play', 'Baseball'),\n",
       " ('Indians', 'Play', 'cricket'),\n",
       " ('Indians', 'watch', 'Baseball'),\n",
       " ('Indians', 'watch', 'cricket')]"
      ]
     },
     "execution_count": 17,
     "metadata": {},
     "output_type": "execute_result"
    }
   ],
   "source": [
    "lst = [(s,v,o) for s in subjects for v in verbs for o in objects]\n",
    "lst"
   ]
  },
  {
   "cell_type": "code",
   "execution_count": 21,
   "metadata": {},
   "outputs": [],
   "source": [
    "# Joining the tuples into string and placing it into a list\n",
    "new_str_lst = []\n",
    "for i in lst:\n",
    "    new_str_lst.append(\" \".join(i))"
   ]
  },
  {
   "cell_type": "code",
   "execution_count": 22,
   "metadata": {},
   "outputs": [
    {
     "data": {
      "text/plain": [
       "['Americans Play Baseball',\n",
       " 'Americans Play cricket',\n",
       " 'Americans watch Baseball',\n",
       " 'Americans watch cricket',\n",
       " 'Indians Play Baseball',\n",
       " 'Indians Play cricket',\n",
       " 'Indians watch Baseball',\n",
       " 'Indians watch cricket']"
      ]
     },
     "execution_count": 22,
     "metadata": {},
     "output_type": "execute_result"
    }
   ],
   "source": [
    "new_str_lst"
   ]
  }
 ],
 "metadata": {
  "kernelspec": {
   "display_name": "Python 3",
   "language": "python",
   "name": "python3"
  },
  "language_info": {
   "codemirror_mode": {
    "name": "ipython",
    "version": 3
   },
   "file_extension": ".py",
   "mimetype": "text/x-python",
   "name": "python",
   "nbconvert_exporter": "python",
   "pygments_lexer": "ipython3",
   "version": "3.7.0"
  }
 },
 "nbformat": 4,
 "nbformat_minor": 4
}
