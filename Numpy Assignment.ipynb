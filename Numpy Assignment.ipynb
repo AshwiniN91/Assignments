{
 "cells": [
  {
   "cell_type": "code",
   "execution_count": 1,
   "metadata": {},
   "outputs": [],
   "source": [
    "# Importing libraries\n",
    "import numpy as np"
   ]
  },
  {
   "cell_type": "markdown",
   "metadata": {},
   "source": [
    "### 1. Write a function so that the columns of the output matrix are powers of the input vector. \n",
    "\n",
    "### The order of the powers is determined by the increasing boolean argument. Specifically, when increasing=False, the i-th output column is the input vector raised element-wise to the power of N-i-1.\n",
    "\n",
    "### HINT: Such a matrix with a geometric progression in each row is named for Alexandre-Theophile Vandermode."
   ]
  },
  {
   "cell_type": "code",
   "execution_count": 24,
   "metadata": {},
   "outputs": [
    {
     "name": "stdout",
     "output_type": "stream",
     "text": [
      "\n",
      "------------------------------OUTPUT---------------------------------------\n",
      "\n",
      "The input array is: [2 3 4 5] \n",
      "\n",
      "Number of columns in the output matrix is: 5 \n",
      "\n",
      "Vander matrix of the input array in the decreasing order of powers:\n",
      "\n",
      " [[ 16   8   4   2   1]\n",
      " [ 81  27   9   3   1]\n",
      " [256  64  16   4   1]\n",
      " [625 125  25   5   1]]\n"
     ]
    }
   ],
   "source": [
    "def vandermode_matrix(ip_arr,n,increasing=False):\n",
    "    vad_matx = np.array([i**(n-j-1) for i in ip_arr for j in range(n)]).reshape(ip_arr.size,n)\n",
    "    return vad_matx\n",
    "\n",
    "print(\"\\n------------------------------OUTPUT---------------------------------------\\n\")\n",
    "arr = np.array([2,3,4,5])\n",
    "no_of_col = 5\n",
    "op_matx = vandermode_matrix(arr,no_of_col,False)\n",
    "\n",
    "print(\"The input array is:\",arr,\"\\n\")\n",
    "print(\"Number of columns in the output matrix is:\",no_of_col,\"\\n\")\n",
    "print(\"Vander matrix of the input array in the decreasing order of powers:\\n\\n\",op_matx)"
   ]
  },
  {
   "cell_type": "markdown",
   "metadata": {},
   "source": [
    "### 2. Write a function to find moving average in an array over a window:- \n",
    "\n",
    "     Test it over [3,5,7,2,8,10,11,65,72,81,99,100,150] and window of 3."
   ]
  },
  {
   "cell_type": "code",
   "execution_count": 7,
   "metadata": {},
   "outputs": [
    {
     "data": {
      "text/plain": [
       "13"
      ]
     },
     "execution_count": 7,
     "metadata": {},
     "output_type": "execute_result"
    }
   ],
   "source": [
    "a1 = np.array([3,5,7,2,8,10,11,65,72,81,99,100,150])\n",
    "len(a1)"
   ]
  },
  {
   "cell_type": "code",
   "execution_count": 8,
   "metadata": {},
   "outputs": [],
   "source": [
    "def mov_avg(x,w):\n",
    "    for m in range(len(x)-(w-1)):\n",
    "        yield sum(np.ones(w) * x[m:m+w]) / w"
   ]
  },
  {
   "cell_type": "code",
   "execution_count": 10,
   "metadata": {},
   "outputs": [
    {
     "data": {
      "text/plain": [
       "array([  5.        ,   4.66666667,   5.66666667,   6.66666667,\n",
       "         9.66666667,  28.66666667,  49.33333333,  72.66666667,\n",
       "        84.        ,  93.33333333, 116.33333333])"
      ]
     },
     "execution_count": 10,
     "metadata": {},
     "output_type": "execute_result"
    }
   ],
   "source": [
    "mv_avg = np.array(list(mov_avg(a1,3)))\n",
    "mv_avg"
   ]
  },
  {
   "cell_type": "code",
   "execution_count": null,
   "metadata": {},
   "outputs": [],
   "source": []
  }
 ],
 "metadata": {
  "kernelspec": {
   "display_name": "Python 3",
   "language": "python",
   "name": "python3"
  },
  "language_info": {
   "codemirror_mode": {
    "name": "ipython",
    "version": 3
   },
   "file_extension": ".py",
   "mimetype": "text/x-python",
   "name": "python",
   "nbconvert_exporter": "python",
   "pygments_lexer": "ipython3",
   "version": "3.7.0"
  }
 },
 "nbformat": 4,
 "nbformat_minor": 4
}
