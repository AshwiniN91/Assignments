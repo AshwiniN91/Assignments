{
 "cells": [
  {
   "cell_type": "markdown",
   "metadata": {},
   "source": [
    "##### 1.1 Write a Python Program (with class concepts) to find the area of the triangle using the below formula\n",
    "\n",
    "##### area = (s*(s-a)*(s-b)*(s-c))**0.5\n",
    "\n",
    "##### Function to take length of the sides of triangle from user should be defined in the parent class and function to calculate the area should be defined in subclass."
   ]
  },
  {
   "cell_type": "code",
   "execution_count": 24,
   "metadata": {},
   "outputs": [],
   "source": [
    "class triangle_sides:\n",
    "    \n",
    "    def __init__(self,a,b,c):\n",
    "        self.a = a\n",
    "        self.b = b\n",
    "        self.c = c    "
   ]
  },
  {
   "cell_type": "code",
   "execution_count": 28,
   "metadata": {},
   "outputs": [
    {
     "name": "stdout",
     "output_type": "stream",
     "text": [
      "Area of triangle : 17.320508075688775\n"
     ]
    }
   ],
   "source": [
    "class area_of_triangle(triangle_sides):\n",
    "    def __init__(self,*args):\n",
    "        super(area_of_triangle,self).__init__(*args)\n",
    "    \n",
    "    def area(self):\n",
    "        s = (self.a + self.b + self.c) / 2\n",
    "        area = (s * (s - self.a) * (s - self.b) * (s - self.c)) ** 0.5\n",
    "        return area\n",
    "    \n",
    "aft = area_of_triangle(5,7,8)\n",
    "print(\"Area of triangle :\",aft.area()) "
   ]
  },
  {
   "cell_type": "markdown",
   "metadata": {},
   "source": [
    "##### 1.2 Write a function filter_long_words() that takes a list of words and an integer n and returns the list of words that are longer than n."
   ]
  },
  {
   "cell_type": "code",
   "execution_count": 9,
   "metadata": {},
   "outputs": [
    {
     "data": {
      "text/plain": [
       "['Data Science', 'Introduction']"
      ]
     },
     "execution_count": 9,
     "metadata": {},
     "output_type": "execute_result"
    }
   ],
   "source": [
    "def filter_long_words(w_lst,n):\n",
    "    long_wrds_lst = []\n",
    "    for i in w_lst:\n",
    "        if len(i) > n:\n",
    "            long_wrds_lst.append(i)\n",
    "    return long_wrds_lst\n",
    "\n",
    "filter_long_words([\"Data Science\",\"Functions\",\"Introduction\"],10)"
   ]
  },
  {
   "cell_type": "markdown",
   "metadata": {},
   "source": [
    "##### 2.1 Write a Python program using function concept that maps list of words into a list of integers representing the lengths of the corresponding words. Hint: If a list [ ab,cde,erty] is passed on to the python function output should come as [2,3,4] .Here 2,3 and 4 are the lengths of the words in the list."
   ]
  },
  {
   "cell_type": "code",
   "execution_count": 6,
   "metadata": {},
   "outputs": [
    {
     "data": {
      "text/plain": [
       "[5, 3, 5, 7]"
      ]
     },
     "execution_count": 6,
     "metadata": {},
     "output_type": "execute_result"
    }
   ],
   "source": [
    "def word_lst(w_lst):\n",
    "    wrds= []\n",
    "    for w in w_lst:\n",
    "        wrds.append(len(w))\n",
    "    return wrds\n",
    "\n",
    "word_lst([\"yatch\",\"why\",\"today\",\"rebuilt\"])\n",
    "        "
   ]
  },
  {
   "cell_type": "markdown",
   "metadata": {},
   "source": [
    "#### 2.2 Write a Python function which takes a character (i.e. a string of length 1) and returns True if it is a vowel, False otherwise."
   ]
  },
  {
   "cell_type": "code",
   "execution_count": 31,
   "metadata": {},
   "outputs": [
    {
     "name": "stdout",
     "output_type": "stream",
     "text": [
      "False\n",
      "True\n"
     ]
    }
   ],
   "source": [
    "def check_vowel(ch):\n",
    "    vowels = \"aeiou\"\n",
    "    return ch in vowels\n",
    "            \n",
    "print(check_vowel(\"s\"))\n",
    "print(check_vowel(\"e\"))"
   ]
  }
 ],
 "metadata": {
  "kernelspec": {
   "display_name": "Python 3",
   "language": "python",
   "name": "python3"
  },
  "language_info": {
   "codemirror_mode": {
    "name": "ipython",
    "version": 3
   },
   "file_extension": ".py",
   "mimetype": "text/x-python",
   "name": "python",
   "nbconvert_exporter": "python",
   "pygments_lexer": "ipython3",
   "version": "3.7.0"
  }
 },
 "nbformat": 4,
 "nbformat_minor": 4
}
